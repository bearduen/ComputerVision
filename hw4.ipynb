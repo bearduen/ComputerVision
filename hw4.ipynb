{
 "cells": [
  {
   "cell_type": "markdown",
   "metadata": {},
   "source": [
    "# Homework 4"
   ]
  },
  {
   "cell_type": "markdown",
   "metadata": {},
   "source": [
    "Write programs which do binary morphology on a binary image:\n",
    "(a) Dilation\n",
    "(b) Erosion\n",
    "(c) Opening\n",
    "(d) Closing\n",
    "(e) Hit-and-miss transform"
   ]
  },
  {
   "cell_type": "code",
   "execution_count": 1,
   "metadata": {},
   "outputs": [],
   "source": [
    "import cv2\n",
    "import numpy as np\n",
    "import matplotlib.pyplot as plt\n",
    "\n",
    "img = cv2.imread('lena.bmp', cv2.IMREAD_GRAYSCALE)\n",
    "h, w = img.shape[0], img.shape[1]"
   ]
  },
  {
   "cell_type": "code",
   "execution_count": 2,
   "metadata": {},
   "outputs": [],
   "source": [
    "#set kernel\n",
    "ker = np.zeros([21, 2], dtype='int8')\n",
    "#octogonal 3-5-5-5-3 kernel\n",
    "ker[0] = [-2, -1]\n",
    "ker[1] = [-2, 0]\n",
    "ker[2] = [-2, 1]\n",
    "ker[3] = [-1, -2]\n",
    "ker[4] = [-1, -1]\n",
    "ker[5] = [-1, 0]\n",
    "ker[6] = [-1, 1]\n",
    "ker[7] = [-1, 2]\n",
    "ker[8] = [0, -2]\n",
    "ker[9] = [0, -1]\n",
    "ker[10] = [0, 0]\n",
    "ker[11] = [0, 1]\n",
    "ker[12] = [0, 2]\n",
    "ker[13] = [1, -2]\n",
    "ker[14] = [1, -1]\n",
    "ker[15] = [1, 0]\n",
    "ker[16] = [1, 1]\n",
    "ker[17] = [1, 2]\n",
    "ker[18] = [2, -1]\n",
    "ker[19] = [2, 0]\n",
    "ker[20] = [2, 1]\n",
    "#\"L\" shaped kernel\n",
    "ker_j = np.zeros([3, 2], dtype='int8')\n",
    "ker_k = np.zeros([3, 2], dtype='int8')\n",
    "ker_j[0] = [0, 0]\n",
    "ker_j[1] = [0, -1]\n",
    "ker_j[2] = [1, 0]\n",
    "ker_k[0] = [-1, 0]\n",
    "ker_k[1] = [-1, 1]\n",
    "ker_k[2] = [0, 1]"
   ]
  },
  {
   "cell_type": "code",
   "execution_count": 3,
   "metadata": {},
   "outputs": [],
   "source": [
    "#generate a binary image (threshold at 128)\n",
    "def Binarize():\n",
    "    new_img = np.zeros([h, w], dtype=img.dtype)\n",
    "    for i in range(h):\n",
    "        for j in range(w):\n",
    "            if img[i][j] < 128:\n",
    "                new_img[i][j] = 0\n",
    "            else:\n",
    "                new_img[i][j] = 255\n",
    "    return new_img"
   ]
  },
  {
   "cell_type": "code",
   "execution_count": 4,
   "metadata": {},
   "outputs": [],
   "source": [
    "#binary dilation\n",
    "def Dilation(img):\n",
    "    new_img = np.zeros([h, w], dtype=img.dtype)\n",
    "    for i in range(h):\n",
    "        for j in range(w):\n",
    "            if (img[i][j] == 255):\n",
    "                for k in range(21):\n",
    "                    x, y = i + ker[k][0], j + ker[k][1]\n",
    "                    if (x >= 0 and x < h and y >= 0 and y < w):\n",
    "                        new_img[x][y] = 255\n",
    "    return new_img"
   ]
  },
  {
   "cell_type": "code",
   "execution_count": 5,
   "metadata": {},
   "outputs": [],
   "source": [
    "#binary erosion\n",
    "def Erosion(img, ker, ker_size):\n",
    "    new_img = np.zeros([h, w], dtype=img.dtype)\n",
    "    for i in range(h):\n",
    "        for j in range(w):\n",
    "            remove = 0\n",
    "            for k in range(ker_size):\n",
    "                x, y = i + ker[k][0], j + ker[k][1]\n",
    "                if (x < 0 or x >= h or y < 0 or y >= w or img[x][y] != 255):\n",
    "                    remove = 1\n",
    "            if (remove != 1):\n",
    "                new_img[i][j] = 255\n",
    "    return new_img"
   ]
  },
  {
   "cell_type": "code",
   "execution_count": 6,
   "metadata": {},
   "outputs": [],
   "source": [
    "#binary opening\n",
    "def Opening(img):\n",
    "    new_img = np.zeros([h, w], dtype=img.dtype)\n",
    "    new_img = img\n",
    "    return Dilation(Erosion(new_img, ker, 21))"
   ]
  },
  {
   "cell_type": "code",
   "execution_count": 7,
   "metadata": {},
   "outputs": [],
   "source": [
    "#binary closing\n",
    "def Closing(img):\n",
    "    new_img = np.zeros([h, w], dtype=img.dtype)\n",
    "    new_img = img\n",
    "    return Erosion(Dilation(new_img), ker, 21)"
   ]
  },
  {
   "cell_type": "code",
   "execution_count": 8,
   "metadata": {},
   "outputs": [],
   "source": [
    "#顯示影像\n",
    "def show_result(img):\n",
    "    img = cv2.cvtColor(img, cv2.COLOR_BGR2RGB)\n",
    "    plt.imshow(img)\n",
    "    plt.axis('off')\n",
    "    plt.show()"
   ]
  },
  {
   "cell_type": "code",
   "execution_count": 9,
   "metadata": {},
   "outputs": [],
   "source": [
    "#binary hit-and-miss transform\n",
    "def HitAndMiss(img):\n",
    "    comp_img = np.zeros([h, w], dtype=img.dtype)\n",
    "    new_img = np.zeros([h, w], dtype=img.dtype)\n",
    "    tmp1_img = np.zeros([h, w], dtype=img.dtype)\n",
    "    tmp2_img = np.zeros([h, w], dtype=img.dtype)\n",
    "    for i in range(h):\n",
    "        for j in range(w):\n",
    "            comp_img[i][j] = 255 - img[i][j]\n",
    "\n",
    "    tmp1_img = Erosion(img, ker_j, 3)\n",
    "    tmp2_img = Erosion(comp_img, ker_k, 3)\n",
    "    \n",
    "    for i in range(h):\n",
    "        for j in range(w):\n",
    "            if (tmp1_img[i][j] == 255 and tmp2_img[i][j] == 255):\n",
    "                new_img[i][j] = 255\n",
    "    return new_img"
   ]
  },
  {
   "cell_type": "code",
   "execution_count": 10,
   "metadata": {},
   "outputs": [
    {
     "data": {
      "image/png": "[encoded data removed]",
      "text/plain": [
       "<Figure size 432x288 with 1 Axes>"
      ]
     },
     "metadata": {
      "needs_background": "light"
     },
     "output_type": "display_data"
    },
    {
     "data": {
      "image/png": "[encoded data removed]",
      "text/plain": [
       "<Figure size 432x288 with 1 Axes>"
      ]
     },
     "metadata": {
      "needs_background": "light"
     },
     "output_type": "display_data"
    },
    {
     "data": {
      "image/png": "[encoded data removed]",
      "text/plain": [
       "<Figure size 432x288 with 1 Axes>"
      ]
     },
     "metadata": {
      "needs_background": "light"
     },
     "output_type": "display_data"
    },
    {
     "data": {
      "image/png": "[encoded data removed]",
      "text/plain": [
       "<Figure size 432x288 with 1 Axes>"
      ]
     },
     "metadata": {
      "needs_background": "light"
     },
     "output_type": "display_data"
    },
    {
     "data": {
      "image/png": "[encoded data removed]",
      "text/plain": [
       "<Figure size 432x288 with 1 Axes>"
      ]
     },
     "metadata": {
      "needs_background": "light"
     },
     "output_type": "display_data"
    }
   ],
   "source": [
    "binary_img = Binarize()\n",
    "show_result(Dilation(binary_img))\n",
    "show_result(Erosion(binary_img, ker, 21))\n",
    "show_result(Opening(binary_img))\n",
    "show_result(Closing(binary_img))\n",
    "show_result(HitAndMiss(binary_img))"
   ]
  }
 ],
 "metadata": {
  "kernelspec": {
   "display_name": "Python 3",
   "language": "python",
   "name": "python3"
  },
  "language_info": {
   "codemirror_mode": {
    "name": "ipython",
    "version": 3
   },
   "file_extension": ".py",
   "mimetype": "text/x-python",
   "name": "python",
   "nbconvert_exporter": "python",
   "pygments_lexer": "ipython3",
   "version": "3.7.6"
  }
 },
 "nbformat": 4,
 "nbformat_minor": 2
}
