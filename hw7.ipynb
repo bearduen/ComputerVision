{
 "cells": [
  {
   "cell_type": "markdown",
   "metadata": {},
   "source": [
    "# Homework 7"
   ]
  },
  {
   "cell_type": "markdown",
   "metadata": {},
   "source": [
    "Write a program which does thinning on a downsampled image (lena.bmp)."
   ]
  },
  {
   "cell_type": "code",
   "execution_count": 1,
   "metadata": {},
   "outputs": [],
   "source": [
    "import cv2\n",
    "import numpy as np\n",
    "import matplotlib.pyplot as plt"
   ]
  },
  {
   "cell_type": "code",
   "execution_count": 2,
   "metadata": {},
   "outputs": [],
   "source": [
    "def Binarize(img):\n",
    "    new_img = img.copy()\n",
    "    for i in range(512):\n",
    "        for j in range(512):\n",
    "            if img[i][j] < 128:\n",
    "                new_img[i][j] = 0\n",
    "            else:\n",
    "                new_img[i][j] = 255\n",
    "    return new_img"
   ]
  },
  {
   "cell_type": "code",
   "execution_count": 3,
   "metadata": {},
   "outputs": [],
   "source": [
    "def DownSampling(img):\n",
    "    new_img = np.zeros([64, 64], dtype=img.dtype)\n",
    "    for i in range(64):\n",
    "        new_img[i] = img[i*8][0:512:8]\n",
    "\n",
    "    #set border into 0\n",
    "    new_img = np.insert(new_img, 0, 0, axis=0)\n",
    "    new_img = np.insert(new_img, 65, 0, axis=0)\n",
    "    new_img = np.insert(new_img, 0, 0, axis=1)\n",
    "    new_img = np.insert(new_img, 65, 0, axis=1)\n",
    "\n",
    "    return new_img"
   ]
  },
  {
   "cell_type": "code",
   "execution_count": 4,
   "metadata": {},
   "outputs": [],
   "source": [
    "def Yokoi_h(b, c, d, e):\n",
    "    if b == c:\n",
    "        if d == b and e == b:\n",
    "            return 'r'\n",
    "        else:\n",
    "            return 'q'\n",
    "    else:\n",
    "        return 's'\n",
    "\n",
    "def Yokoi_f(a):\n",
    "    if (a[0] == 'r' and a[1] == 'r' and a[2] == 'r' and a[3] == 'r'):\n",
    "        return 5\n",
    "    count = 0\n",
    "    for i in range(4):\n",
    "        if a[i] == 'q':\n",
    "            count += 1\n",
    "    return count\n",
    "    \n",
    "def Yokoi(img):\n",
    "    out = np.zeros((66, 66))\n",
    "    a = ['', '', '', '']\n",
    "    for i in range(1, 65):\n",
    "        for j in range(1, 65):\n",
    "            if img[i][j] == 255:\n",
    "                a[0] = Yokoi_h(img[i][j], img[i][j+1], img[i-1][j+1], img[i-1][j])\n",
    "                a[1] = Yokoi_h(img[i][j], img[i-1][j], img[i-1][j-1], img[i][j-1])\n",
    "                a[2] = Yokoi_h(img[i][j], img[i][j-1], img[i+1][j-1], img[i+1][j])\n",
    "                a[3] = Yokoi_h(img[i][j], img[i+1][j], img[i+1][j+1], img[i][j+1])\n",
    "                out[i][j] = Yokoi_f(a)\n",
    "            else:\n",
    "                out[i][j] = 6\n",
    "        out[i][0] = out[i][65] = 6\n",
    "    out[0][0:66:] = out[65][0:66:] = 6\n",
    "\n",
    "    return out"
   ]
  },
  {
   "cell_type": "code",
   "execution_count": 5,
   "metadata": {},
   "outputs": [],
   "source": [
    "def PairRelation(yokoi):\n",
    "    out = [[''] * 66 for i in range(66)]\n",
    "    for i in range(1, 65):\n",
    "        for j in range(1, 65):\n",
    "            if yokoi[i][j] != 6:\n",
    "                if yokoi[i][j] == 1 and (yokoi[i-1][j] == 1 or yokoi[i+1][j] == 1 or yokoi[i][j-1] == 1 or yokoi[i][j+1] == 1):\n",
    "                    out[i][j] = 'p'                   \n",
    "                else:\n",
    "                    out[i][j] = 'q'\n",
    "            else:\n",
    "                out[i][j] = 'g'\n",
    "        out[i][0] = out[i][65] = 'g'\n",
    "    for i in range(66):\n",
    "        out[0][i] = out[65][i] = 'g'\n",
    "\n",
    "    return out"
   ]
  },
  {
   "cell_type": "code",
   "execution_count": 6,
   "metadata": {},
   "outputs": [],
   "source": [
    "def Shrink_h(b, c, d, e):\n",
    "    if c != 'g' and (d == 'g' or e == 'g'):\n",
    "        return 1\n",
    "    return 0\n",
    "\n",
    "def Shrink_f(a, x):\n",
    "    sum = 0\n",
    "    for i in range(4):\n",
    "        sum += a[i]\n",
    "    if sum == 1:\n",
    "        return 'g'\n",
    "    return x\n",
    "\n",
    "def Shrink(img):\n",
    "    out = [[''] * 66 for i in range(66)]\n",
    "    a = ['', '', '', '']\n",
    "    for i in range(1, 65):\n",
    "        for j in range(1, 65):\n",
    "            if img[i][j] == 'p':\n",
    "                a[0] = Shrink_h(img[i][j], img[i][j+1], img[i-1][j+1], img[i-1][j])\n",
    "                a[1] = Shrink_h(img[i][j], img[i-1][j], img[i-1][j-1], img[i][j-1])\n",
    "                a[2] = Shrink_h(img[i][j], img[i][j-1], img[i+1][j-1], img[i+1][j])\n",
    "                a[3] = Shrink_h(img[i][j], img[i+1][j], img[i+1][j+1], img[i][j+1])\n",
    "                img[i][j] = Shrink_f(a, img[i][j])\n",
    "    for i in range(66):\n",
    "        for j in range(66):\n",
    "            if img[i][j] == 'g':\n",
    "                out[i][j] = 0\n",
    "            else:\n",
    "                out[i][j] = 255\n",
    "    \n",
    "    return out"
   ]
  },
  {
   "cell_type": "code",
   "execution_count": 7,
   "metadata": {},
   "outputs": [],
   "source": [
    "def diff(img1, img2):\n",
    "    for i in range(64):\n",
    "        for j in range(64):\n",
    "            if img1[i][j] != img2[i][j]:\n",
    "                return 1\n",
    "    return 0"
   ]
  },
  {
   "cell_type": "code",
   "execution_count": 8,
   "metadata": {},
   "outputs": [],
   "source": [
    "def Thinning(img):\n",
    "    new_img = np.zeros([64, 64], dtype=img.dtype)\n",
    "\n",
    "    change = 1\n",
    "    while change == 1:\n",
    "        Yokoi_out = Yokoi(img)\n",
    "        PairRelation_out = PairRelation(Yokoi_out)\n",
    "        result = Shrink(PairRelation_out)\n",
    "        change = diff(img, result)\n",
    "        img = result\n",
    "    \n",
    "    for i in range(64):\n",
    "        for j in range(64):\n",
    "            if result[i+1][j+1] == 255:\n",
    "                new_img[i][j] = 255\n",
    "            else:\n",
    "                new_img[i][j] = 0\n",
    "    new_img = cv2.cvtColor(new_img, cv2.COLOR_BGR2RGB)\n",
    "    plt.imshow(new_img)\n",
    "    plt.axis('off')\n",
    "    plt.show()"
   ]
  },
  {
   "cell_type": "code",
   "execution_count": 9,
   "metadata": {},
   "outputs": [
    {
     "data": {
      "image/png": "[encoded data removed]",
      "text/plain": [
       "<Figure size 432x288 with 1 Axes>"
      ]
     },
     "metadata": {
      "needs_background": "light"
     },
     "output_type": "display_data"
    }
   ],
   "source": [
    "img = cv2.imread('lena.bmp', cv2.IMREAD_GRAYSCALE)\n",
    "Thinning(DownSampling(Binarize(img)))"
   ]
  }
 ],
 "metadata": {
  "kernelspec": {
   "display_name": "Python 3",
   "language": "python",
   "name": "python3"
  },
  "language_info": {
   "codemirror_mode": {
    "name": "ipython",
    "version": 3
   },
   "file_extension": ".py",
   "mimetype": "text/x-python",
   "name": "python",
   "nbconvert_exporter": "python",
   "pygments_lexer": "ipython3",
   "version": "3.7.6"
  }
 },
 "nbformat": 4,
 "nbformat_minor": 2
}
