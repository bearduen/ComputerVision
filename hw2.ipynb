{
 "cells": [
  {
   "cell_type": "markdown",
   "metadata": {},
   "source": [
    "# Homework 2"
   ]
  },
  {
   "cell_type": "markdown",
   "metadata": {},
   "source": [
    "Write a program to generate:\n",
    "(a) a binary image (threshold at 128)\n",
    "(b) a histogram\n",
    "(c) connected components\u000b",
    "(regions with + at centroid, \u000b",
    "bounding box)"
   ]
  },
  {
   "cell_type": "code",
   "execution_count": 1,
   "metadata": {},
   "outputs": [],
   "source": [
    "import cv2\n",
    "import numpy as np\n",
    "import matplotlib.pyplot as plt\n",
    "\n",
    "img = cv2.imread('lena.bmp', cv2.IMREAD_GRAYSCALE)\n",
    "h, w = img.shape[0], img.shape[1]"
   ]
  },
  {
   "cell_type": "code",
   "execution_count": 2,
   "metadata": {},
   "outputs": [],
   "source": [
    "#generate a binary image (threshold at 128)\n",
    "def Binarize():\n",
    "    new_img = np.zeros([h, w], dtype=img.dtype)\n",
    "    for i in range(h):\n",
    "        for j in range(w):\n",
    "            if img[i][j] < 128:\n",
    "                new_img[i][j] = 0\n",
    "            else:\n",
    "                new_img[i][j] = 255\n",
    "    return new_img"
   ]
  },
  {
   "cell_type": "code",
   "execution_count": 3,
   "metadata": {},
   "outputs": [],
   "source": [
    "#histogram\n",
    "def histogram():\n",
    "    hist = np.zeros(256)   \n",
    "    for i in range(h):\n",
    "        for j in range(w):\n",
    "            hist[img[i][j]] += 1\n",
    "    plt.plot(hist)\n",
    "    plt.show()"
   ]
  },
  {
   "cell_type": "code",
   "execution_count": 4,
   "metadata": {},
   "outputs": [],
   "source": [
    "#connected components\n",
    "def ConnectedComponents(img):\n",
    "    labels = np.zeros([h, w], dtype=int)\n",
    "    label = 0\n",
    "\n",
    "    #initialization of each pixel to a unique label\n",
    "    for i in range(h):\n",
    "        for j in range(w):\n",
    "            if img[i][j] == 255:\n",
    "                label += 1\n",
    "                labels[i][j] = label\n",
    "    #iteration of top-down followed by bottom-up passes until no change\n",
    "    change = 1\n",
    "    while change == 1:\n",
    "        change = 0\n",
    "        for i in range(h):\n",
    "            for j in range(w):\n",
    "                if labels[i][j] != 0:\n",
    "                    if i>0 and labels[i-1][j] != 0:\n",
    "                        if labels[i-1][j] < labels[i][j]:\n",
    "                            labels[i][j] = labels[i-1][j]\n",
    "                            change = 1\n",
    "                    if i<h-1 and labels[i+1][j] != 0:\n",
    "                        if labels[i+1][j] < labels[i][j]:\n",
    "                            labels[i][j] = labels[i+1][j]\n",
    "                            change = 1\n",
    "                    if j>0 and labels[i][j-1] != 0:\n",
    "                        if labels[i][j-1] < labels[i][j]:\n",
    "                            labels[i][j] = labels[i][j-1]\n",
    "                            change = 1\n",
    "                    if j<w-1 and labels[i][j+1] != 0:\n",
    "                        if labels[i][j+1] < labels[i][j]:\n",
    "                            labels[i][j] = labels[i][j+1]\n",
    "                            change = 1\n",
    "        for i in range(h-1, -1, -1):\n",
    "            for j in range(w-1, -1, -1):\n",
    "                if labels[i][j] != 0:\n",
    "                    if i>0 and labels[i-1][j] != 0:\n",
    "                        if labels[i-1][j] < labels[i][j]:\n",
    "                            labels[i][j] = labels[i-1][j]\n",
    "                            change = 1\n",
    "                    if i<h-1 and labels[i+1][j] != 0:\n",
    "                        if labels[i+1][j] < labels[i][j]:\n",
    "                            labels[i][j] = labels[i+1][j]\n",
    "                            change = 1\n",
    "                    if j>0 and labels[i][j-1] != 0:\n",
    "                        if labels[i][j-1] < labels[i][j]:\n",
    "                            labels[i][j] = labels[i][j-1]\n",
    "                            change = 1\n",
    "                    if j<w-1 and labels[i][j+1] != 0:\n",
    "                        if labels[i][j+1] < labels[i][j]:\n",
    "                            labels[i][j] = labels[i][j+1]\n",
    "                            change = 1\n",
    "                            \n",
    "    #bounding box\n",
    "    img = cv2.cvtColor(img, cv2.COLOR_GRAY2BGR)\n",
    "    list = []\n",
    "    for i in range(h):\n",
    "        for j in range(w):\n",
    "            if labels[i][j] != 0 and labels[i][j] not in list:\n",
    "                area = np.sum(labels == labels[i][j])\n",
    "                list.append(labels[i][j])\n",
    "\n",
    "                #get rectangle\n",
    "                if area > 500:\n",
    "                    min_x = min_y = 99999\n",
    "                    max_x = max_y = -1\n",
    "                    sum_x = sum_y = count = 0\n",
    "                    for x in range(h):\n",
    "                        for y in range(w):\n",
    "                            if labels[x][y] == labels[i][j]:\n",
    "                                sum_x += x\n",
    "                                sum_y += y\n",
    "                                count += 1\n",
    "                                if x < min_x:\n",
    "                                    min_x = x\n",
    "                                if y < min_y:\n",
    "                                    min_y = y\n",
    "                                if x > max_x:\n",
    "                                    max_x = x\n",
    "                                if y > max_y:\n",
    "                                    max_y = y\n",
    "                    cv2.rectangle(img, (min_y, min_x), (max_y, max_x), (255, 255, 0), 2)\n",
    "                    sum_x /= count\n",
    "                    sum_y /= count\n",
    "                    sum_x = int(sum_x)\n",
    "                    sum_y = int(sum_y)\n",
    "                    cv2.line(img, (sum_y-10, sum_x), (sum_y+10, sum_x), (0, 0, 255), 2)\n",
    "                    cv2.line(img, (sum_y, sum_x-10), (sum_y, sum_x+10), (0, 0, 255), 2)\n",
    "    return img"
   ]
  },
  {
   "cell_type": "code",
   "execution_count": 5,
   "metadata": {},
   "outputs": [],
   "source": [
    "#顯示影像\n",
    "def show_result(img):\n",
    "    img = cv2.cvtColor(img, cv2.COLOR_BGR2RGB)\n",
    "    plt.imshow(img)\n",
    "    plt.axis('off')\n",
    "    plt.show()"
   ]
  },
  {
   "cell_type": "code",
   "execution_count": 6,
   "metadata": {},
   "outputs": [
    {
     "data": {
      "image/png": "[encoded data removed]",
      "text/plain": [
       "<Figure size 432x288 with 1 Axes>"
      ]
     },
     "metadata": {
      "needs_background": "light"
     },
     "output_type": "display_data"
    },
    {
     "data": {
      "image/png": "[encoded data removed]",
      "text/plain": [
       "<Figure size 432x288 with 1 Axes>"
      ]
     },
     "metadata": {
      "needs_background": "light"
     },
     "output_type": "display_data"
    },
    {
     "data": {
      "image/png": "[encoded data removed]",
      "text/plain": [
       "<Figure size 432x288 with 1 Axes>"
      ]
     },
     "metadata": {
      "needs_background": "light"
     },
     "output_type": "display_data"
    }
   ],
   "source": [
    "binary_img = Binarize()\n",
    "show_result(Binarize())\n",
    "histogram()\n",
    "show_result(ConnectedComponents(binary_img))"
   ]
  }
 ],
 "metadata": {
  "kernelspec": {
   "display_name": "Python 3",
   "language": "python",
   "name": "python3"
  },
  "language_info": {
   "codemirror_mode": {
    "name": "ipython",
    "version": 3
   },
   "file_extension": ".py",
   "mimetype": "text/x-python",
   "name": "python",
   "nbconvert_exporter": "python",
   "pygments_lexer": "ipython3",
   "version": "3.7.6"
  }
 },
 "nbformat": 4,
 "nbformat_minor": 2
}
