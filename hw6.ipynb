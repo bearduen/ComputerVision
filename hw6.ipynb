{
 "cells": [
  {
   "cell_type": "markdown",
   "metadata": {},
   "source": [
    "# Homework 6 "
   ]
  },
  {
   "cell_type": "markdown",
   "metadata": {},
   "source": [
    "Write a program which counts the Yokoi connectivity number on a downsampled image(lena.bmp)."
   ]
  },
  {
   "cell_type": "code",
   "execution_count": 1,
   "metadata": {},
   "outputs": [],
   "source": [
    "import cv2\n",
    "import numpy as np\n",
    "\n",
    "img = cv2.imread('lena.bmp', cv2.IMREAD_GRAYSCALE)"
   ]
  },
  {
   "cell_type": "code",
   "execution_count": 2,
   "metadata": {},
   "outputs": [],
   "source": [
    "def Binarize(img):\n",
    "    new_img = img.copy()\n",
    "    for i in range(512):\n",
    "        for j in range(512):\n",
    "            if img[i][j] < 128:\n",
    "                new_img[i][j] = 0\n",
    "            else:\n",
    "                new_img[i][j] = 255\n",
    "    return new_img"
   ]
  },
  {
   "cell_type": "code",
   "execution_count": 3,
   "metadata": {},
   "outputs": [],
   "source": [
    "def DownSampling(img):\n",
    "    new_img = np.zeros([64, 64], dtype=img.dtype)\n",
    "    for i in range(64):\n",
    "        new_img[i] = img[i*8][0:512:8]\n",
    "\n",
    "    #set border into 0\n",
    "    new_img = np.insert(new_img, 0, 0, axis=0)\n",
    "    new_img = np.insert(new_img, 65, 0, axis=0)\n",
    "    new_img = np.insert(new_img, 0, 0, axis=1)\n",
    "    new_img = np.insert(new_img, 65, 0, axis=1)\n",
    "\n",
    "    return new_img"
   ]
  },
  {
   "cell_type": "code",
   "execution_count": 4,
   "metadata": {},
   "outputs": [],
   "source": [
    "def h(b, c, d, e):\n",
    "    if b == c:\n",
    "        if d == b and e == b:\n",
    "            return 'r'\n",
    "        else:\n",
    "            return 'q'\n",
    "    else:\n",
    "        return 's'"
   ]
  },
  {
   "cell_type": "code",
   "execution_count": 5,
   "metadata": {},
   "outputs": [],
   "source": [
    "def f(a):\n",
    "    if (a[0] == 'r' and a[1] == 'r' and a[2] == 'r' and a[3] == 'r'):\n",
    "        return 5\n",
    "    count = 0\n",
    "    for i in range(4):\n",
    "        if a[i] == 'q':\n",
    "            count += 1\n",
    "    return count"
   ]
  },
  {
   "cell_type": "code",
   "execution_count": 6,
   "metadata": {},
   "outputs": [],
   "source": [
    "def Yokoi(img):\n",
    "    out = np.zeros((66, 66))\n",
    "    a = ['', '', '', '']\n",
    "    for i in range(1, 65):\n",
    "        for j in range(1, 65):\n",
    "            if img[i][j] == 255:\n",
    "                a[0] = h(img[i][j], img[i][j+1], img[i-1][j+1], img[i-1][j])\n",
    "                a[1] = h(img[i][j], img[i-1][j], img[i-1][j-1], img[i][j-1])\n",
    "                a[2] = h(img[i][j], img[i][j-1], img[i+1][j-1], img[i+1][j])\n",
    "                a[3] = h(img[i][j], img[i+1][j], img[i+1][j+1], img[i][j+1])\n",
    "                out[i][j] = f(a)\n",
    "            else:\n",
    "                out[i][j] = 6                   \n",
    "    \n",
    "    for i in range(1, 65):\n",
    "        for j in range(1, 65):\n",
    "            if out[i][j] == 6:\n",
    "                print(' ', end='')\n",
    "            else:\n",
    "                print(int(out[i][j]), end='')\n",
    "        print(end='\\n')"
   ]
  },
  {
   "cell_type": "code",
   "execution_count": 7,
   "metadata": {},
   "outputs": [
    {
     "name": "stdout",
     "output_type": "stream",
     "text": [
      "11111111        12111111111122322221     111111111111       0  0\n",
      "15555551         115555555511 2 11  11   1155555555511        0 \n",
      "15555551        1 2115555112  21112221    155555555551      21  \n",
      "15555551        1 2 155112 22221511       1555555555511     1   \n",
      "15555551         22 2112 22    121 0 0    15555555555511   0    \n",
      "15555551         1  2  21 2     1   1     15555555555551  0     \n",
      "15555551           12 1  121111    1321   155555555555511       \n",
      "15111551           1322 1155551111        155555555555551       \n",
      "111 1551            1  121555555511       155555555555511       \n",
      "11  1551                 21155555511      15511155555511        \n",
      "21  1551                 2 15555555111    1551 11555511         \n",
      "1   1551                 2 155555555511   1551  115551         1\n",
      "    1551               1121155555555551   1551   15511        12\n",
      "    1551               15555555555555511  1551   1111        111\n",
      "    1551        1     2221155555555555511 1151    11        1151\n",
      "    1551        2    22 1 1555555555555511 151  11111       1551\n",
      "    1551        2    1   11555555555555551 151 115551      11551\n",
      "    1551        2       11555555555555555111511155511     115551\n",
      "    1551       12      11555555555555555555555555551      155551\n",
      "    1551       11   0 221555555555555555555555555112     1155551\n",
      "    1551       111   22 15555555555555555555555551 1     1555551\n",
      "    1551       1511  1 125112111112111555555555111      11555551\n",
      "    1551       15521  1 121 1 11  1  15555555111  0     15555551\n",
      "    1551       1151  132 2          1155555111   0     115555551\n",
      "    1551        151 0  322         115555111  121      155555551\n",
      "    1551        1221   2           1555551   131      1155555551\n",
      "    1551         2  0  1          115555511   1       1155555551\n",
      "    1551         2   0      0    1155555551  0       1 155555551\n",
      "    1551         2              11555555551          21155555551\n",
      "    1551         1  0          115555555551          15555555551\n",
      "    1551          1           11511115555521  1     115555555551\n",
      "    1551        1 1          11111  1155511   2     155555555551\n",
      "    1551       131           111     15111    2     155555555551\n",
      "    1551      121 0        1121   1  111  1   2    1155555555551\n",
      "    1551      11           111 1  221 11  1   2    1555555555551\n",
      "    1551    12  0    1     21 121  11 1111    2    1555555555551\n",
      "    1551     1      12    22  151111111551    2   11555555555551\n",
      "    1551   1              2   1555551115511   1   15555555555551\n",
      "    1551   2    0     0  22  12555551 15551    1  15555555555551\n",
      "    1551   1             1    1555511 11511    2 115555555555551\n",
      "    1551      0 0      21     155551 1 151     2 155555555555551\n",
      "    1551               2      15555112 151     2 155555555555551\n",
      "    1551         1   1 1     1155555511111     2 155555555555551\n",
      "    1551         2  22       111511111212      21155555555555551\n",
      "    1551  0      1 12          151    2 1      15555555111555551\n",
      "    1551       0  0  0         1111  121       155555551 1555551\n",
      "    1551            0           11111111       155555551 1555551\n",
      "    1551        0                115551        155555551 1555511\n",
      "    1551                          15551        211111111 155511 \n",
      "    11521      1   12          122155511       2     11 115511  \n",
      "1    151 0     1    1            155555111     2111     15511   \n",
      "22   1511          1             15555555111   155111   1511    \n",
      " 22  1511          1             15555555551   155551  1151     \n",
      "  2  151            0 1        11155555555511  155511  1511     \n",
      "  2  1521    0        1        155555555555511 15551 12151      \n",
      "  2  151           121         155555555555551 155511 1551      \n",
      "  2  1511                   0  155555555555551 115551 1511      \n",
      "  21 1511            11        155555555555551  111111151       \n",
      "  11 151          0           11555555555555511    111511       \n",
      "  11 151                      15555555555555551      151        \n",
      "  11 151            0        115555555555555551      211        \n",
      "  11 151                     1155555555555555511     1          \n",
      "  11 151                    0 155555555555555551                \n",
      "  11 111        0            1211111111111111111                \n"
     ]
    }
   ],
   "source": [
    "Yokoi(DownSampling(Binarize(img)))"
   ]
  }
 ],
 "metadata": {
  "kernelspec": {
   "display_name": "Python 3",
   "language": "python",
   "name": "python3"
  },
  "language_info": {
   "codemirror_mode": {
    "name": "ipython",
    "version": 3
   },
   "file_extension": ".py",
   "mimetype": "text/x-python",
   "name": "python",
   "nbconvert_exporter": "python",
   "pygments_lexer": "ipython3",
   "version": "3.7.6"
  }
 },
 "nbformat": 4,
 "nbformat_minor": 2
}
